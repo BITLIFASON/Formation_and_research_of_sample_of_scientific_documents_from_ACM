{
 "cells": [
  {
   "cell_type": "code",
   "execution_count": 2,
   "metadata": {},
   "outputs": [],
   "source": [
    "import requests\n",
    "import pickle\n",
    "from bs4 import BeautifulSoup\n",
    "import lxml\n",
    "import random\n",
    "import pandas as pd\n",
    "import time\n",
    "random.seed = 456"
   ]
  },
  {
   "cell_type": "code",
   "execution_count": 2,
   "metadata": {},
   "outputs": [],
   "source": [
    "session = requests.Session()"
   ]
  },
  {
   "cell_type": "code",
   "execution_count": 3,
   "metadata": {},
   "outputs": [
    {
     "data": {
      "text/plain": [
       "{'User-Agent': 'python-requests/2.25.1', 'Accept-Encoding': 'gzip, deflate', 'Accept': '*/*', 'Connection': 'keep-alive'}"
      ]
     },
     "execution_count": 3,
     "metadata": {},
     "output_type": "execute_result"
    }
   ],
   "source": [
    "session.headers"
   ]
  },
  {
   "cell_type": "code",
   "execution_count": 4,
   "metadata": {},
   "outputs": [],
   "source": [
    "headers = {'User-Agent': 'Mozilla/5.0 (Windows NT 10.0; Win64; x64; en-US; rv:76.0) Gecko/20100101 Firefox/76.0'}"
   ]
  },
  {
   "cell_type": "code",
   "execution_count": 5,
   "metadata": {},
   "outputs": [],
   "source": [
    "session.headers.update(headers)"
   ]
  },
  {
   "cell_type": "code",
   "execution_count": 6,
   "metadata": {},
   "outputs": [
    {
     "data": {
      "text/plain": [
       "{'User-Agent': 'Mozilla/5.0 (Windows NT 10.0; Win64; x64; en-US; rv:76.0) Gecko/20100101 Firefox/76.0', 'Accept-Encoding': 'gzip, deflate', 'Accept': '*/*', 'Connection': 'keep-alive'}"
      ]
     },
     "execution_count": 6,
     "metadata": {},
     "output_type": "execute_result"
    }
   ],
   "source": [
    "session.headers"
   ]
  },
  {
   "cell_type": "code",
   "execution_count": 7,
   "metadata": {},
   "outputs": [],
   "source": [
    "params_res_hw = {'fillQuickSearch':'false',\n",
    "              'target':'advanced',\n",
    "              'expand':'dl',\n",
    "              'field1':'AllField',\n",
    "              'text1':\"Hardware AND Architecture\",\n",
    "              'Ppub':\"[20210315 TO 20220315]\",\n",
    "              'pageSize':50,\n",
    "              'startPage':0,\n",
    "              'rel':'nofollow',\n",
    "              'ContentItemType':'research-article'}"
   ]
  },
  {
   "cell_type": "code",
   "execution_count": 8,
   "metadata": {},
   "outputs": [],
   "source": [
    "params_res_se = {'fillQuickSearch':'false',\n",
    "              'target':'advanced',\n",
    "              'expand':'dl',\n",
    "              'field1':'AllField',\n",
    "              'text1':\"Software AND Engineering\",\n",
    "              'Ppub':\"[20210315 TO 20220315]\",\n",
    "              'pageSize':50,\n",
    "              'startPage':0,\n",
    "              'rel':'nofollow',\n",
    "              'ContentItemType':'research-article'}"
   ]
  },
  {
   "cell_type": "code",
   "execution_count": 9,
   "metadata": {},
   "outputs": [],
   "source": [
    "params_res_fl = {'fillQuickSearch':'false',\n",
    "              'target':'advanced',\n",
    "              'expand':'dl',\n",
    "              'field1':'AllField',\n",
    "              'text1':\"Fuzzy AND Logic\",\n",
    "              'Ppub':\"[20210315 TO 20220315]\",\n",
    "              'pageSize':50,\n",
    "              'startPage':0,\n",
    "              'rel':'nofollow',\n",
    "              'ContentItemType':'research-article'}"
   ]
  },
  {
   "cell_type": "code",
   "execution_count": 10,
   "metadata": {},
   "outputs": [],
   "source": [
    "params_res_sm = {'fillQuickSearch':'false',\n",
    "              'target':'advanced',\n",
    "              'expand':'dl',\n",
    "              'field1':'AllField',\n",
    "              'text1':\"Systems AND Control\",\n",
    "              'Ppub':\"[20210315 TO 20220315]\",\n",
    "              'pageSize':50,\n",
    "              'startPage':0,\n",
    "              'rel':'nofollow',\n",
    "              'ContentItemType':'research-article'}"
   ]
  },
  {
   "cell_type": "code",
   "execution_count": 11,
   "metadata": {},
   "outputs": [],
   "source": [
    "params_res_db = {'fillQuickSearch':'false',\n",
    "              'target':'advanced',\n",
    "              'expand':'dl',\n",
    "              'field1':'AllField',\n",
    "              'text1':\"Databases\",\n",
    "              'Ppub':\"[20210315 TO 20220315]\",\n",
    "              'pageSize':50,\n",
    "              'startPage':0,\n",
    "              'rel':'nofollow',\n",
    "              'ContentItemType':'research-article'}"
   ]
  },
  {
   "cell_type": "code",
   "execution_count": 12,
   "metadata": {},
   "outputs": [],
   "source": [
    "params_res_cs = {'fillQuickSearch':'false',\n",
    "              'target':'advanced',\n",
    "              'expand':'dl',\n",
    "              'field1':'AllField',\n",
    "              'text1':\"Computer AND Security\",\n",
    "              'Ppub':\"[20210315 TO 20220315]\",\n",
    "              'pageSize':50,\n",
    "              'startPage':0,\n",
    "              'rel':'nofollow',\n",
    "              'ContentItemType':'research-article'}"
   ]
  },
  {
   "cell_type": "markdown",
   "metadata": {},
   "source": [
    "## Результаты"
   ]
  },
  {
   "cell_type": "code",
   "execution_count": 86,
   "metadata": {},
   "outputs": [],
   "source": [
    "results = []"
   ]
  },
  {
   "cell_type": "code",
   "execution_count": 87,
   "metadata": {},
   "outputs": [],
   "source": [
    "params_res = params_res_fl"
   ]
  },
  {
   "cell_type": "code",
   "execution_count": 88,
   "metadata": {},
   "outputs": [],
   "source": [
    "r = session.get('https://dl.acm.org/action/doSearch',params=params_res)"
   ]
  },
  {
   "cell_type": "code",
   "execution_count": 89,
   "metadata": {},
   "outputs": [
    {
     "data": {
      "text/plain": [
       "200"
      ]
     },
     "execution_count": 89,
     "metadata": {},
     "output_type": "execute_result"
    }
   ],
   "source": [
    "r.status_code"
   ]
  },
  {
   "cell_type": "code",
   "execution_count": 90,
   "metadata": {},
   "outputs": [
    {
     "data": {
      "text/plain": [
       "'https://dl.acm.org/action/doSearch?fillQuickSearch=false&target=advanced&expand=dl&field1=AllField&text1=Fuzzy+AND+Logic&Ppub=%5B20210315+TO+20220315%5D&pageSize=50&startPage=0&rel=nofollow&ContentItemType=research-article'"
      ]
     },
     "execution_count": 90,
     "metadata": {},
     "output_type": "execute_result"
    }
   ],
   "source": [
    "r.url"
   ]
  },
  {
   "cell_type": "code",
   "execution_count": 68,
   "metadata": {},
   "outputs": [],
   "source": [
    "def parse_page_result(params,page):\n",
    "    params['startPage'] = page\n",
    "    r = session.get('https://dl.acm.org/action/doSearch',params=params)\n",
    "    soup = BeautifulSoup(r.text,'lxml')\n",
    "    articles_r = soup.find_all('span', class_='hlFld-Title')\n",
    "    titles = []\n",
    "    for article in articles_r:\n",
    "        titles.append(article.text)\n",
    "    links = []\n",
    "    for article in articles_r:\n",
    "        links.append('https://dl.acm.org'+article.findChild(\"a\")['href'])\n",
    "    return titles, links"
   ]
  },
  {
   "cell_type": "code",
   "execution_count": 69,
   "metadata": {},
   "outputs": [],
   "source": [
    "def parse_info_article(url):\n",
    "    r = session.get(url)\n",
    "    soup = BeautifulSoup(r.text,'lxml')\n",
    "    authors = []\n",
    "    for author in soup.find_all('span', class_='loa__author-name'):\n",
    "        authors.append(author.text)\n",
    "    meta_r = soup.find('div', class_='issue-item__detail')\n",
    "    source = meta_r.a['title']\n",
    "    date = meta_r.find('span','epub-section__date').text.strip()\n",
    "    if len(date)>15:\n",
    "        date = date[12:]\n",
    "    try:\n",
    "        abstract_r = soup.find('div', class_='abstractSection abstractInFull').find('div', class_='abstractSection abstractInFull')\n",
    "        if abstract_r is None:\n",
    "            abstract_r = soup.find('div', class_='abstractSection abstractInFull')\n",
    "            if abstract_r is None:\n",
    "                abstract = ''\n",
    "            else:\n",
    "                abstract = abstract_r.text\n",
    "        else:\n",
    "            abstract = abstract_r.text\n",
    "    except AttributeError:\n",
    "        abstract = ''\n",
    "    return authors, date, abstract, source"
   ]
  },
  {
   "cell_type": "code",
   "execution_count": 70,
   "metadata": {},
   "outputs": [],
   "source": [
    "#pages = []\n",
    "#for i in range(30):\n",
    "    #if len(pages) == 0:\n",
    "        #pages.append(random.randint(1,2))\n",
    "    #else:\n",
    "        #pages.append(pages[i-1]+random.randint(1,5))"
   ]
  },
  {
   "cell_type": "code",
   "execution_count": 71,
   "metadata": {},
   "outputs": [],
   "source": [
    "pages = range(8)"
   ]
  },
  {
   "cell_type": "code",
   "execution_count": 72,
   "metadata": {},
   "outputs": [],
   "source": [
    "count_results = 0\n",
    "for page in pages:\n",
    "    result_info = parse_page_result(params_res,page)\n",
    "    count_results_page = len(result_info[0])\n",
    "    for i in range(count_results_page):\n",
    "        results.append({'title':'','link':'','authors':'','date':'','abstract':'', 'source':''})\n",
    "    for i,j in zip(range(count_results,count_results+count_results_page),range(count_results_page)):\n",
    "        results[i].update(title=result_info[0][j], link=result_info[1][j])\n",
    "    count_results += count_results_page\n",
    "    time.sleep(10)"
   ]
  },
  {
   "cell_type": "code",
   "execution_count": 73,
   "metadata": {},
   "outputs": [
    {
     "data": {
      "text/plain": [
       "400"
      ]
     },
     "execution_count": 73,
     "metadata": {},
     "output_type": "execute_result"
    }
   ],
   "source": [
    "len(results)"
   ]
  },
  {
   "cell_type": "code",
   "execution_count": 74,
   "metadata": {},
   "outputs": [],
   "source": [
    "#with open('pre_results_cs.pkl','wb') as pr:\n",
    "    #pickle.dump(results,pr)"
   ]
  },
  {
   "cell_type": "code",
   "execution_count": 23,
   "metadata": {},
   "outputs": [],
   "source": [
    "#with open('pre_results_hw.pkl','rb') as pr:\n",
    "    #results = pickle.load(pr)"
   ]
  },
  {
   "cell_type": "code",
   "execution_count": 75,
   "metadata": {
    "scrolled": true
   },
   "outputs": [
    {
     "name": "stdout",
     "output_type": "stream",
     "text": [
      "0\n",
      "1\n",
      "2\n",
      "3\n",
      "4\n",
      "5\n",
      "6\n",
      "7\n",
      "8\n",
      "9\n",
      "10\n",
      "11\n",
      "12\n",
      "13\n",
      "14\n",
      "15\n",
      "16\n",
      "17\n",
      "18\n",
      "19\n",
      "20\n",
      "21\n",
      "22\n",
      "23\n",
      "24\n",
      "25\n",
      "26\n",
      "27\n",
      "28\n",
      "29\n",
      "30\n",
      "31\n",
      "32\n",
      "33\n",
      "34\n",
      "35\n",
      "36\n",
      "37\n",
      "38\n",
      "39\n",
      "40\n",
      "41\n",
      "42\n",
      "43\n",
      "44\n",
      "45\n",
      "46\n",
      "47\n",
      "48\n",
      "49\n",
      "50\n",
      "51\n",
      "52\n",
      "53\n",
      "54\n",
      "55\n",
      "56\n",
      "57\n",
      "58\n",
      "59\n",
      "60\n",
      "61\n",
      "62\n",
      "63\n",
      "64\n",
      "65\n",
      "66\n",
      "67\n",
      "68\n",
      "69\n",
      "70\n",
      "71\n",
      "72\n",
      "73\n",
      "74\n",
      "75\n",
      "76\n",
      "77\n",
      "78\n",
      "79\n",
      "80\n",
      "81\n",
      "82\n",
      "83\n",
      "84\n",
      "85\n",
      "86\n",
      "87\n",
      "88\n",
      "89\n",
      "90\n",
      "91\n",
      "92\n",
      "93\n",
      "94\n",
      "95\n",
      "96\n",
      "97\n",
      "98\n",
      "99\n",
      "100\n",
      "101\n",
      "102\n",
      "103\n",
      "104\n",
      "105\n",
      "106\n",
      "107\n",
      "108\n",
      "109\n",
      "110\n",
      "111\n",
      "112\n",
      "113\n",
      "114\n",
      "115\n",
      "116\n",
      "117\n",
      "118\n",
      "119\n",
      "120\n",
      "121\n",
      "122\n",
      "123\n",
      "124\n",
      "125\n",
      "126\n",
      "127\n",
      "128\n",
      "129\n",
      "130\n",
      "131\n",
      "132\n",
      "133\n",
      "134\n",
      "135\n",
      "136\n",
      "137\n",
      "138\n",
      "139\n",
      "140\n",
      "141\n",
      "142\n",
      "143\n",
      "144\n",
      "145\n",
      "146\n",
      "147\n",
      "148\n",
      "149\n",
      "150\n",
      "151\n",
      "152\n",
      "153\n",
      "154\n",
      "155\n",
      "156\n",
      "157\n",
      "158\n",
      "159\n",
      "160\n",
      "161\n",
      "162\n",
      "163\n",
      "164\n",
      "165\n",
      "166\n",
      "167\n",
      "168\n",
      "169\n",
      "170\n",
      "171\n",
      "172\n",
      "173\n",
      "174\n",
      "175\n",
      "176\n",
      "177\n",
      "178\n",
      "179\n",
      "180\n",
      "181\n",
      "182\n",
      "183\n",
      "184\n",
      "185\n",
      "186\n",
      "187\n",
      "188\n",
      "189\n",
      "190\n",
      "191\n",
      "192\n",
      "193\n",
      "194\n",
      "195\n",
      "196\n",
      "197\n",
      "198\n",
      "199\n",
      "200\n",
      "201\n",
      "202\n",
      "203\n",
      "204\n",
      "205\n",
      "206\n",
      "207\n",
      "208\n",
      "209\n",
      "210\n",
      "211\n",
      "212\n",
      "213\n",
      "214\n",
      "215\n",
      "216\n",
      "217\n",
      "218\n",
      "219\n",
      "220\n",
      "221\n",
      "222\n",
      "223\n",
      "224\n",
      "225\n",
      "226\n",
      "227\n",
      "228\n",
      "229\n",
      "230\n",
      "231\n",
      "232\n",
      "233\n",
      "234\n",
      "235\n",
      "236\n",
      "237\n",
      "238\n",
      "239\n",
      "240\n",
      "241\n",
      "242\n",
      "243\n",
      "244\n",
      "245\n",
      "246\n",
      "247\n",
      "248\n",
      "249\n",
      "250\n",
      "251\n",
      "252\n",
      "253\n",
      "254\n",
      "255\n",
      "256\n",
      "257\n",
      "258\n",
      "259\n",
      "260\n",
      "261\n",
      "262\n",
      "263\n",
      "264\n",
      "265\n",
      "266\n",
      "267\n",
      "268\n",
      "269\n",
      "270\n",
      "271\n",
      "272\n",
      "273\n",
      "274\n",
      "275\n",
      "276\n",
      "277\n",
      "278\n",
      "279\n",
      "280\n",
      "281\n",
      "282\n",
      "283\n",
      "284\n",
      "285\n",
      "286\n",
      "287\n",
      "288\n",
      "289\n",
      "290\n",
      "291\n",
      "292\n",
      "293\n",
      "294\n",
      "295\n",
      "296\n",
      "297\n",
      "298\n",
      "299\n",
      "300\n",
      "301\n",
      "302\n",
      "303\n",
      "304\n",
      "305\n",
      "306\n",
      "307\n",
      "308\n",
      "309\n",
      "310\n",
      "311\n",
      "312\n",
      "313\n",
      "314\n",
      "315\n",
      "316\n",
      "317\n",
      "318\n",
      "319\n",
      "320\n",
      "321\n",
      "322\n",
      "323\n",
      "324\n",
      "325\n",
      "326\n",
      "327\n",
      "328\n",
      "329\n",
      "330\n",
      "331\n",
      "332\n",
      "333\n",
      "334\n",
      "335\n",
      "336\n",
      "337\n",
      "338\n",
      "339\n",
      "340\n",
      "341\n",
      "342\n",
      "343\n",
      "344\n",
      "345\n",
      "346\n",
      "347\n",
      "348\n",
      "349\n",
      "350\n",
      "351\n",
      "352\n",
      "353\n",
      "354\n",
      "355\n",
      "356\n",
      "357\n",
      "358\n",
      "359\n",
      "360\n",
      "361\n",
      "362\n",
      "363\n",
      "364\n",
      "365\n",
      "366\n",
      "367\n",
      "368\n",
      "369\n",
      "370\n",
      "371\n",
      "372\n",
      "373\n",
      "374\n",
      "375\n",
      "376\n",
      "377\n",
      "378\n",
      "379\n",
      "380\n",
      "381\n",
      "382\n",
      "383\n",
      "384\n",
      "385\n",
      "386\n",
      "387\n",
      "388\n",
      "389\n",
      "390\n",
      "391\n",
      "392\n",
      "393\n",
      "394\n",
      "395\n",
      "396\n",
      "397\n",
      "398\n",
      "399\n"
     ]
    }
   ],
   "source": [
    "kol = 0\n",
    "resp = []\n",
    "for result in results:\n",
    "    print(kol)\n",
    "    result['authors'], result['date'], result['abstract'], result['source'] =  parse_info_article(result['link'])\n",
    "    #time.sleep(0.5)\n",
    "    kol+=1"
   ]
  },
  {
   "cell_type": "code",
   "execution_count": 76,
   "metadata": {},
   "outputs": [
    {
     "data": {
      "text/plain": [
       "400"
      ]
     },
     "execution_count": 76,
     "metadata": {},
     "output_type": "execute_result"
    }
   ],
   "source": [
    "kol"
   ]
  },
  {
   "cell_type": "code",
   "execution_count": 97,
   "metadata": {},
   "outputs": [
    {
     "data": {
      "text/plain": [
       "{'title': 'Research and Application of Hail Recognition Algorithm Based on X-Band Dual-Polarization Radar',\n",
       " 'link': 'https://dl.acm.org/doi/10.1145/3474198.3478258',\n",
       " 'authors': ['Hailong Wang', 'Jianxin He', 'Zhao Shi'],\n",
       " 'date': 'May 2021',\n",
       " 'abstract': 'Extreme weather such as hail can cause great losses to human production and life, and timely and accurate identification of hail can reduce the impact of such extreme weather. Polarization variables can be used to retrieve hydrometeor size, shape and precipitation type. This article mainly studies the hail recognition algorithm based on X-band dual-polarization radar. The algorithm uses the following parameters as input: the horizontal reflectivity Z, the differential reflectivity ZDR, the cross-correlation coefficient ρhv, the specific differential phase KDP, the standard deviation of horizontal reflectivity SD(Z), and the standard deviation of differential phase SD(ΦDP). First, use the hydrometeor classification algorithm to classify the hydrometeor. Then, the hail recognition algorithm based on fuzzy logic scheme is used to further divide the hail size. In the hail recognition algorithm, the height of the 0℃ and -25℃ layer is used as the key parameter of the division weight and membership function. This paper uses the dual-polarization data collected by the Chengdu dual-polarization weather radar to verify the algorithm. The result shows that the algorithm can realize the recognition of hail.',\n",
       " 'source': 'ICFEICT 2021: International Conference on Frontiers of Electronics, Information and Computation Technologies'}"
      ]
     },
     "execution_count": 97,
     "metadata": {},
     "output_type": "execute_result"
    }
   ],
   "source": [
    "results[50]"
   ]
  },
  {
   "cell_type": "code",
   "execution_count": 82,
   "metadata": {},
   "outputs": [],
   "source": [
    "#with open('after_results_cs.pkl','wb') as ar:\n",
    "    #pickle.dump(results,ar)"
   ]
  },
  {
   "cell_type": "code",
   "execution_count": 3,
   "metadata": {},
   "outputs": [],
   "source": [
    "#with open('after_results_fl.pkl','rb') as ar:\n",
    "    #results = pickle.load(ar)"
   ]
  },
  {
   "cell_type": "code",
   "execution_count": 79,
   "metadata": {},
   "outputs": [],
   "source": [
    "for result in results: # без \\n\n",
    "    result['abstract']=result['abstract'][1:-1]"
   ]
  },
  {
   "cell_type": "code",
   "execution_count": 80,
   "metadata": {},
   "outputs": [],
   "source": [
    "for result in results: # без latex формул\n",
    "    result['abstract']=result['abstract'].replace('(<inline-formula> <tex-math notation=\"LaTeX\">$d$ </tex-math></inline-formula>)','')"
   ]
  },
  {
   "cell_type": "code",
   "execution_count": null,
   "metadata": {},
   "outputs": [],
   "source": [
    "# results[1438] -- in abstract (<inline-formula> <tex-math notation=\"LaTeX\">$d$ </tex-math></inline-formula>) (old)\n",
    "# results[1448] -- abstract: '\\nAs .... states.\\n' (old)"
   ]
  },
  {
   "cell_type": "code",
   "execution_count": 4,
   "metadata": {},
   "outputs": [],
   "source": [
    "data = pd.DataFrame(results)"
   ]
  },
  {
   "cell_type": "code",
   "execution_count": 5,
   "metadata": {},
   "outputs": [
    {
     "data": {
      "text/html": [
       "<div>\n",
       "<style scoped>\n",
       "    .dataframe tbody tr th:only-of-type {\n",
       "        vertical-align: middle;\n",
       "    }\n",
       "\n",
       "    .dataframe tbody tr th {\n",
       "        vertical-align: top;\n",
       "    }\n",
       "\n",
       "    .dataframe thead th {\n",
       "        text-align: right;\n",
       "    }\n",
       "</style>\n",
       "<table border=\"1\" class=\"dataframe\">\n",
       "  <thead>\n",
       "    <tr style=\"text-align: right;\">\n",
       "      <th></th>\n",
       "      <th>title</th>\n",
       "      <th>link</th>\n",
       "      <th>authors</th>\n",
       "      <th>date</th>\n",
       "      <th>abstract</th>\n",
       "      <th>source</th>\n",
       "    </tr>\n",
       "  </thead>\n",
       "  <tbody>\n",
       "    <tr>\n",
       "      <th>0</th>\n",
       "      <td>Fuzzy Logic in Surveillance Big Video Data Ana...</td>\n",
       "      <td>https://dl.acm.org/doi/10.1145/3444693</td>\n",
       "      <td>[Khan Muhammad, Mohammad S. Obaidat, Tanveer H...</td>\n",
       "      <td>April 2022</td>\n",
       "      <td>CTV cameras installed for continuous surveilla...</td>\n",
       "      <td>ACM Computing Surveys</td>\n",
       "    </tr>\n",
       "    <tr>\n",
       "      <th>1</th>\n",
       "      <td>Robot Arm Control Using Fuzzy Logic Design Int...</td>\n",
       "      <td>https://dl.acm.org/doi/10.1145/3492547.3492620</td>\n",
       "      <td>[Tawfiq Hussein Elmenfy, Mona Mohamed]</td>\n",
       "      <td>October 2021</td>\n",
       "      <td>Abstract— The main contribution of this propos...</td>\n",
       "      <td>ICEMIS'21: The 7th International Conference on...</td>\n",
       "    </tr>\n",
       "    <tr>\n",
       "      <th>2</th>\n",
       "      <td>Evaluation of Water Filtration System Through ...</td>\n",
       "      <td>https://dl.acm.org/doi/10.1145/3470716.3470734</td>\n",
       "      <td>[Analyn Yumang, Lois Anne Borrega, Almer Dave ...</td>\n",
       "      <td>April 2021</td>\n",
       "      <td>Physicochemical parameters of water that have ...</td>\n",
       "      <td>ICIEI 2021: 2021 The 6th International Confere...</td>\n",
       "    </tr>\n",
       "    <tr>\n",
       "      <th>3</th>\n",
       "      <td>An Implementation of Fuzzy Logic Technique to ...</td>\n",
       "      <td>https://dl.acm.org/doi/10.1145/3492547.3492639</td>\n",
       "      <td>[Abdelaziz Mahmod Badi, Sulayman Hussian Ameit...</td>\n",
       "      <td>October 2021</td>\n",
       "      <td>This work aims to study the effect of wax depo...</td>\n",
       "      <td>ICEMIS'21: The 7th International Conference on...</td>\n",
       "    </tr>\n",
       "    <tr>\n",
       "      <th>4</th>\n",
       "      <td>Research on Automatic Location of Seed Points ...</td>\n",
       "      <td>https://dl.acm.org/doi/10.1145/3510858.3511380</td>\n",
       "      <td>[Tianyu Zhao, Hang Dai]</td>\n",
       "      <td>December 2021</td>\n",
       "      <td>Breast cancer is the second leading cause of c...</td>\n",
       "      <td>ICASIT 2021: 2021 International Conference on ...</td>\n",
       "    </tr>\n",
       "    <tr>\n",
       "      <th>...</th>\n",
       "      <td>...</td>\n",
       "      <td>...</td>\n",
       "      <td>...</td>\n",
       "      <td>...</td>\n",
       "      <td>...</td>\n",
       "      <td>...</td>\n",
       "    </tr>\n",
       "    <tr>\n",
       "      <th>395</th>\n",
       "      <td>Constantine: Automatic Side-Channel Resistance...</td>\n",
       "      <td>https://dl.acm.org/doi/10.1145/3460120.3484583</td>\n",
       "      <td>[Pietro Borrello, Daniele Cono D'Elia, Leonard...</td>\n",
       "      <td>November 2021</td>\n",
       "      <td>In the era of microarchitectural side channels...</td>\n",
       "      <td>CCS '21: Proceedings of the 2021 ACM SIGSAC Co...</td>\n",
       "    </tr>\n",
       "    <tr>\n",
       "      <th>396</th>\n",
       "      <td>A Practical Approach for Dynamic Taint Trackin...</td>\n",
       "      <td>https://dl.acm.org/doi/10.1145/3485464</td>\n",
       "      <td>[Katherine Hough, Jonathan Bell]</td>\n",
       "      <td>April 2022</td>\n",
       "      <td>ynamic taint tracking, a technique that traces...</td>\n",
       "      <td>ACM Transactions on Software Engineering and M...</td>\n",
       "    </tr>\n",
       "    <tr>\n",
       "      <th>397</th>\n",
       "      <td>Intrusion Detection Based on the Game Theory</td>\n",
       "      <td>https://dl.acm.org/doi/10.1145/3474198.3478267</td>\n",
       "      <td>[Yuqing Cheng, HaiYan Fu, Xuechao Sun]</td>\n",
       "      <td>May 2021</td>\n",
       "      <td>With the development of computer technology, m...</td>\n",
       "      <td>ICFEICT 2021: International Conference on Fron...</td>\n",
       "    </tr>\n",
       "    <tr>\n",
       "      <th>398</th>\n",
       "      <td>Early warning analysis and empirical research ...</td>\n",
       "      <td>https://dl.acm.org/doi/10.1145/3508546.3508571</td>\n",
       "      <td>[Yuhang Lin, Jiwei Zhu, Nan Lu]</td>\n",
       "      <td>December 2021</td>\n",
       "      <td>In recent years, with the upgrading of macroec...</td>\n",
       "      <td>ACAI'21: 2021 4th International Conference on ...</td>\n",
       "    </tr>\n",
       "    <tr>\n",
       "      <th>399</th>\n",
       "      <td>Model-Checking Support for File System Develop...</td>\n",
       "      <td>https://dl.acm.org/doi/10.1145/3465332.3470878</td>\n",
       "      <td>[Wei Su, Yifei Liu, Gomathi Ganesan, Gerard Ho...</td>\n",
       "      <td>July 2021</td>\n",
       "      <td>Developing and maintaining a file system is ti...</td>\n",
       "      <td>HotStorage '21: Proceedings of the 13th ACM Wo...</td>\n",
       "    </tr>\n",
       "  </tbody>\n",
       "</table>\n",
       "<p>400 rows × 6 columns</p>\n",
       "</div>"
      ],
      "text/plain": [
       "                                                 title  \\\n",
       "0    Fuzzy Logic in Surveillance Big Video Data Ana...   \n",
       "1    Robot Arm Control Using Fuzzy Logic Design Int...   \n",
       "2    Evaluation of Water Filtration System Through ...   \n",
       "3    An Implementation of Fuzzy Logic Technique to ...   \n",
       "4    Research on Automatic Location of Seed Points ...   \n",
       "..                                                 ...   \n",
       "395  Constantine: Automatic Side-Channel Resistance...   \n",
       "396  A Practical Approach for Dynamic Taint Trackin...   \n",
       "397       Intrusion Detection Based on the Game Theory   \n",
       "398  Early warning analysis and empirical research ...   \n",
       "399  Model-Checking Support for File System Develop...   \n",
       "\n",
       "                                               link  \\\n",
       "0            https://dl.acm.org/doi/10.1145/3444693   \n",
       "1    https://dl.acm.org/doi/10.1145/3492547.3492620   \n",
       "2    https://dl.acm.org/doi/10.1145/3470716.3470734   \n",
       "3    https://dl.acm.org/doi/10.1145/3492547.3492639   \n",
       "4    https://dl.acm.org/doi/10.1145/3510858.3511380   \n",
       "..                                              ...   \n",
       "395  https://dl.acm.org/doi/10.1145/3460120.3484583   \n",
       "396          https://dl.acm.org/doi/10.1145/3485464   \n",
       "397  https://dl.acm.org/doi/10.1145/3474198.3478267   \n",
       "398  https://dl.acm.org/doi/10.1145/3508546.3508571   \n",
       "399  https://dl.acm.org/doi/10.1145/3465332.3470878   \n",
       "\n",
       "                                               authors           date  \\\n",
       "0    [Khan Muhammad, Mohammad S. Obaidat, Tanveer H...     April 2022   \n",
       "1               [Tawfiq Hussein Elmenfy, Mona Mohamed]   October 2021   \n",
       "2    [Analyn Yumang, Lois Anne Borrega, Almer Dave ...     April 2021   \n",
       "3    [Abdelaziz Mahmod Badi, Sulayman Hussian Ameit...   October 2021   \n",
       "4                              [Tianyu Zhao, Hang Dai]  December 2021   \n",
       "..                                                 ...            ...   \n",
       "395  [Pietro Borrello, Daniele Cono D'Elia, Leonard...  November 2021   \n",
       "396                   [Katherine Hough, Jonathan Bell]     April 2022   \n",
       "397             [Yuqing Cheng, HaiYan Fu, Xuechao Sun]       May 2021   \n",
       "398                    [Yuhang Lin, Jiwei Zhu, Nan Lu]  December 2021   \n",
       "399  [Wei Su, Yifei Liu, Gomathi Ganesan, Gerard Ho...      July 2021   \n",
       "\n",
       "                                              abstract  \\\n",
       "0    CTV cameras installed for continuous surveilla...   \n",
       "1    Abstract— The main contribution of this propos...   \n",
       "2    Physicochemical parameters of water that have ...   \n",
       "3    This work aims to study the effect of wax depo...   \n",
       "4    Breast cancer is the second leading cause of c...   \n",
       "..                                                 ...   \n",
       "395  In the era of microarchitectural side channels...   \n",
       "396  ynamic taint tracking, a technique that traces...   \n",
       "397  With the development of computer technology, m...   \n",
       "398  In recent years, with the upgrading of macroec...   \n",
       "399  Developing and maintaining a file system is ti...   \n",
       "\n",
       "                                                source  \n",
       "0                                ACM Computing Surveys  \n",
       "1    ICEMIS'21: The 7th International Conference on...  \n",
       "2    ICIEI 2021: 2021 The 6th International Confere...  \n",
       "3    ICEMIS'21: The 7th International Conference on...  \n",
       "4    ICASIT 2021: 2021 International Conference on ...  \n",
       "..                                                 ...  \n",
       "395  CCS '21: Proceedings of the 2021 ACM SIGSAC Co...  \n",
       "396  ACM Transactions on Software Engineering and M...  \n",
       "397  ICFEICT 2021: International Conference on Fron...  \n",
       "398  ACAI'21: 2021 4th International Conference on ...  \n",
       "399  HotStorage '21: Proceedings of the 13th ACM Wo...  \n",
       "\n",
       "[400 rows x 6 columns]"
      ]
     },
     "execution_count": 5,
     "metadata": {},
     "output_type": "execute_result"
    }
   ],
   "source": [
    "data"
   ]
  },
  {
   "cell_type": "code",
   "execution_count": 25,
   "metadata": {},
   "outputs": [
    {
     "data": {
      "text/plain": [
       "{'title': 'Reticle: a virtual machine for programming modern FPGAs',\n",
       " 'link': 'https://dl.acm.org/doi/10.1145/3453483.3454075',\n",
       " 'authors': ['Luis Vega',\n",
       "  'Joseph McMahan',\n",
       "  'Adrian Sampson',\n",
       "  'Dan Grossman',\n",
       "  'Luis Ceze'],\n",
       " 'date': 'June 2021',\n",
       " 'abstract': 'Modern field-programmable gate arrays (FPGAs) have recently powered high-profile efficiency gains in systems from datacenters to embedded devices by offering ensembles of heterogeneous, reconfigurable hardware units. Programming stacks for FPGAs, however, are stuck in the past—they are based on traditional hardware languages, which were appropriate when FPGAs were simple, homogeneous fabrics of basic programmable primitives. We describe Reticle, a new low-level abstraction for FPGA programming that, unlike existing languages, explicitly represents the special-purpose units available on a particular FPGA device. Reticle has two levels: a portable intermediate language and a target-specific assembly language. We show how to use a standard instruction selection approach to lower intermediate programs to assembly programs, which can be both faster and more effective than the complex metaheuristics that existing FPGA toolchains use. We use Reticle to implement linear algebra operators and coroutines and find that Reticle compilation runs up to 100 times faster than current approaches while producing comparable or better run-time and utilization.',\n",
       " 'source': 'PLDI 2021: Proceedings of the 42nd ACM SIGPLAN International Conference on Programming Language Design and Implementation'}"
      ]
     },
     "execution_count": 25,
     "metadata": {},
     "output_type": "execute_result"
    }
   ],
   "source": [
    "results[334]"
   ]
  },
  {
   "cell_type": "code",
   "execution_count": null,
   "metadata": {},
   "outputs": [],
   "source": []
  }
 ],
 "metadata": {
  "kernelspec": {
   "display_name": "Python 3 (ipykernel)",
   "language": "python",
   "name": "python3"
  },
  "language_info": {
   "codemirror_mode": {
    "name": "ipython",
    "version": 3
   },
   "file_extension": ".py",
   "mimetype": "text/x-python",
   "name": "python",
   "nbconvert_exporter": "python",
   "pygments_lexer": "ipython3",
   "version": "3.9.5"
  }
 },
 "nbformat": 4,
 "nbformat_minor": 4
}
